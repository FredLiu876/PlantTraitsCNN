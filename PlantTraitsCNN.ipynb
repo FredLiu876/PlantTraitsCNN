{
  "nbformat": 4,
  "nbformat_minor": 0,
  "metadata": {
    "colab": {
      "provenance": [],
      "gpuType": "T4"
    },
    "kernelspec": {
      "name": "python3",
      "display_name": "Python 3"
    },
    "language_info": {
      "name": "python"
    },
    "accelerator": "GPU"
  },
  "cells": [
    {
      "cell_type": "code",
      "execution_count": null,
      "metadata": {
        "colab": {
          "base_uri": "https://localhost:8080/"
        },
        "id": "pgV9CQrBezGx",
        "outputId": "099c6e43-c359-4433-cb84-1fd88f0f1abd"
      },
      "outputs": [
        {
          "output_type": "stream",
          "name": "stdout",
          "text": [
            "Requirement already satisfied: kaggle in /usr/local/lib/python3.10/dist-packages (1.6.17)\n",
            "Requirement already satisfied: six>=1.10 in /usr/local/lib/python3.10/dist-packages (from kaggle) (1.16.0)\n",
            "Requirement already satisfied: certifi>=2023.7.22 in /usr/local/lib/python3.10/dist-packages (from kaggle) (2024.7.4)\n",
            "Requirement already satisfied: python-dateutil in /usr/local/lib/python3.10/dist-packages (from kaggle) (2.8.2)\n",
            "Requirement already satisfied: requests in /usr/local/lib/python3.10/dist-packages (from kaggle) (2.32.3)\n",
            "Requirement already satisfied: tqdm in /usr/local/lib/python3.10/dist-packages (from kaggle) (4.66.5)\n",
            "Requirement already satisfied: python-slugify in /usr/local/lib/python3.10/dist-packages (from kaggle) (8.0.4)\n",
            "Requirement already satisfied: urllib3 in /usr/local/lib/python3.10/dist-packages (from kaggle) (2.0.7)\n",
            "Requirement already satisfied: bleach in /usr/local/lib/python3.10/dist-packages (from kaggle) (6.1.0)\n",
            "Requirement already satisfied: webencodings in /usr/local/lib/python3.10/dist-packages (from bleach->kaggle) (0.5.1)\n",
            "Requirement already satisfied: text-unidecode>=1.3 in /usr/local/lib/python3.10/dist-packages (from python-slugify->kaggle) (1.3)\n",
            "Requirement already satisfied: charset-normalizer<4,>=2 in /usr/local/lib/python3.10/dist-packages (from requests->kaggle) (3.3.2)\n",
            "Requirement already satisfied: idna<4,>=2.5 in /usr/local/lib/python3.10/dist-packages (from requests->kaggle) (3.7)\n",
            "Requirement already satisfied: torch in /usr/local/lib/python3.10/dist-packages (2.3.1+cu121)\n",
            "Requirement already satisfied: torchvision in /usr/local/lib/python3.10/dist-packages (0.18.1+cu121)\n",
            "Requirement already satisfied: filelock in /usr/local/lib/python3.10/dist-packages (from torch) (3.15.4)\n",
            "Requirement already satisfied: typing-extensions>=4.8.0 in /usr/local/lib/python3.10/dist-packages (from torch) (4.12.2)\n",
            "Requirement already satisfied: sympy in /usr/local/lib/python3.10/dist-packages (from torch) (1.13.1)\n",
            "Requirement already satisfied: networkx in /usr/local/lib/python3.10/dist-packages (from torch) (3.3)\n",
            "Requirement already satisfied: jinja2 in /usr/local/lib/python3.10/dist-packages (from torch) (3.1.4)\n",
            "Requirement already satisfied: fsspec in /usr/local/lib/python3.10/dist-packages (from torch) (2024.6.1)\n",
            "Collecting nvidia-cuda-nvrtc-cu12==12.1.105 (from torch)\n",
            "  Using cached nvidia_cuda_nvrtc_cu12-12.1.105-py3-none-manylinux1_x86_64.whl.metadata (1.5 kB)\n",
            "Collecting nvidia-cuda-runtime-cu12==12.1.105 (from torch)\n",
            "  Using cached nvidia_cuda_runtime_cu12-12.1.105-py3-none-manylinux1_x86_64.whl.metadata (1.5 kB)\n",
            "Collecting nvidia-cuda-cupti-cu12==12.1.105 (from torch)\n",
            "  Using cached nvidia_cuda_cupti_cu12-12.1.105-py3-none-manylinux1_x86_64.whl.metadata (1.6 kB)\n",
            "Collecting nvidia-cudnn-cu12==8.9.2.26 (from torch)\n",
            "  Using cached nvidia_cudnn_cu12-8.9.2.26-py3-none-manylinux1_x86_64.whl.metadata (1.6 kB)\n",
            "Collecting nvidia-cublas-cu12==12.1.3.1 (from torch)\n",
            "  Using cached nvidia_cublas_cu12-12.1.3.1-py3-none-manylinux1_x86_64.whl.metadata (1.5 kB)\n",
            "Collecting nvidia-cufft-cu12==11.0.2.54 (from torch)\n",
            "  Using cached nvidia_cufft_cu12-11.0.2.54-py3-none-manylinux1_x86_64.whl.metadata (1.5 kB)\n",
            "Collecting nvidia-curand-cu12==10.3.2.106 (from torch)\n",
            "  Using cached nvidia_curand_cu12-10.3.2.106-py3-none-manylinux1_x86_64.whl.metadata (1.5 kB)\n",
            "Collecting nvidia-cusolver-cu12==11.4.5.107 (from torch)\n",
            "  Using cached nvidia_cusolver_cu12-11.4.5.107-py3-none-manylinux1_x86_64.whl.metadata (1.6 kB)\n",
            "Collecting nvidia-cusparse-cu12==12.1.0.106 (from torch)\n",
            "  Using cached nvidia_cusparse_cu12-12.1.0.106-py3-none-manylinux1_x86_64.whl.metadata (1.6 kB)\n",
            "Collecting nvidia-nccl-cu12==2.20.5 (from torch)\n",
            "  Using cached nvidia_nccl_cu12-2.20.5-py3-none-manylinux2014_x86_64.whl.metadata (1.8 kB)\n",
            "Collecting nvidia-nvtx-cu12==12.1.105 (from torch)\n",
            "  Using cached nvidia_nvtx_cu12-12.1.105-py3-none-manylinux1_x86_64.whl.metadata (1.7 kB)\n",
            "Requirement already satisfied: triton==2.3.1 in /usr/local/lib/python3.10/dist-packages (from torch) (2.3.1)\n",
            "Collecting nvidia-nvjitlink-cu12 (from nvidia-cusolver-cu12==11.4.5.107->torch)\n",
            "  Using cached nvidia_nvjitlink_cu12-12.6.20-py3-none-manylinux2014_x86_64.whl.metadata (1.5 kB)\n",
            "Requirement already satisfied: numpy in /usr/local/lib/python3.10/dist-packages (from torchvision) (1.26.4)\n",
            "Requirement already satisfied: pillow!=8.3.*,>=5.3.0 in /usr/local/lib/python3.10/dist-packages (from torchvision) (9.4.0)\n",
            "Requirement already satisfied: MarkupSafe>=2.0 in /usr/local/lib/python3.10/dist-packages (from jinja2->torch) (2.1.5)\n",
            "Requirement already satisfied: mpmath<1.4,>=1.1.0 in /usr/local/lib/python3.10/dist-packages (from sympy->torch) (1.3.0)\n",
            "Using cached nvidia_cublas_cu12-12.1.3.1-py3-none-manylinux1_x86_64.whl (410.6 MB)\n",
            "Using cached nvidia_cuda_cupti_cu12-12.1.105-py3-none-manylinux1_x86_64.whl (14.1 MB)\n",
            "Using cached nvidia_cuda_nvrtc_cu12-12.1.105-py3-none-manylinux1_x86_64.whl (23.7 MB)\n",
            "Using cached nvidia_cuda_runtime_cu12-12.1.105-py3-none-manylinux1_x86_64.whl (823 kB)\n",
            "Using cached nvidia_cudnn_cu12-8.9.2.26-py3-none-manylinux1_x86_64.whl (731.7 MB)\n",
            "Using cached nvidia_cufft_cu12-11.0.2.54-py3-none-manylinux1_x86_64.whl (121.6 MB)\n",
            "Using cached nvidia_curand_cu12-10.3.2.106-py3-none-manylinux1_x86_64.whl (56.5 MB)\n",
            "Using cached nvidia_cusolver_cu12-11.4.5.107-py3-none-manylinux1_x86_64.whl (124.2 MB)\n",
            "Using cached nvidia_cusparse_cu12-12.1.0.106-py3-none-manylinux1_x86_64.whl (196.0 MB)\n",
            "Using cached nvidia_nccl_cu12-2.20.5-py3-none-manylinux2014_x86_64.whl (176.2 MB)\n",
            "Using cached nvidia_nvtx_cu12-12.1.105-py3-none-manylinux1_x86_64.whl (99 kB)\n",
            "Using cached nvidia_nvjitlink_cu12-12.6.20-py3-none-manylinux2014_x86_64.whl (19.7 MB)\n",
            "Installing collected packages: nvidia-nvtx-cu12, nvidia-nvjitlink-cu12, nvidia-nccl-cu12, nvidia-curand-cu12, nvidia-cufft-cu12, nvidia-cuda-runtime-cu12, nvidia-cuda-nvrtc-cu12, nvidia-cuda-cupti-cu12, nvidia-cublas-cu12, nvidia-cusparse-cu12, nvidia-cudnn-cu12, nvidia-cusolver-cu12\n",
            "Successfully installed nvidia-cublas-cu12-12.1.3.1 nvidia-cuda-cupti-cu12-12.1.105 nvidia-cuda-nvrtc-cu12-12.1.105 nvidia-cuda-runtime-cu12-12.1.105 nvidia-cudnn-cu12-8.9.2.26 nvidia-cufft-cu12-11.0.2.54 nvidia-curand-cu12-10.3.2.106 nvidia-cusolver-cu12-11.4.5.107 nvidia-cusparse-cu12-12.1.0.106 nvidia-nccl-cu12-2.20.5 nvidia-nvjitlink-cu12-12.6.20 nvidia-nvtx-cu12-12.1.105\n",
            "Requirement already satisfied: pandas in /usr/local/lib/python3.10/dist-packages (2.1.4)\n",
            "Requirement already satisfied: numpy<2,>=1.22.4 in /usr/local/lib/python3.10/dist-packages (from pandas) (1.26.4)\n",
            "Requirement already satisfied: python-dateutil>=2.8.2 in /usr/local/lib/python3.10/dist-packages (from pandas) (2.8.2)\n",
            "Requirement already satisfied: pytz>=2020.1 in /usr/local/lib/python3.10/dist-packages (from pandas) (2024.1)\n",
            "Requirement already satisfied: tzdata>=2022.1 in /usr/local/lib/python3.10/dist-packages (from pandas) (2024.1)\n",
            "Requirement already satisfied: six>=1.5 in /usr/local/lib/python3.10/dist-packages (from python-dateutil>=2.8.2->pandas) (1.16.0)\n",
            "Requirement already satisfied: numpy in /usr/local/lib/python3.10/dist-packages (1.26.4)\n",
            "Requirement already satisfied: matplotlib in /usr/local/lib/python3.10/dist-packages (3.7.1)\n",
            "Requirement already satisfied: contourpy>=1.0.1 in /usr/local/lib/python3.10/dist-packages (from matplotlib) (1.2.1)\n",
            "Requirement already satisfied: cycler>=0.10 in /usr/local/lib/python3.10/dist-packages (from matplotlib) (0.12.1)\n",
            "Requirement already satisfied: fonttools>=4.22.0 in /usr/local/lib/python3.10/dist-packages (from matplotlib) (4.53.1)\n",
            "Requirement already satisfied: kiwisolver>=1.0.1 in /usr/local/lib/python3.10/dist-packages (from matplotlib) (1.4.5)\n",
            "Requirement already satisfied: numpy>=1.20 in /usr/local/lib/python3.10/dist-packages (from matplotlib) (1.26.4)\n",
            "Requirement already satisfied: packaging>=20.0 in /usr/local/lib/python3.10/dist-packages (from matplotlib) (24.1)\n",
            "Requirement already satisfied: pillow>=6.2.0 in /usr/local/lib/python3.10/dist-packages (from matplotlib) (9.4.0)\n",
            "Requirement already satisfied: pyparsing>=2.3.1 in /usr/local/lib/python3.10/dist-packages (from matplotlib) (3.1.2)\n",
            "Requirement already satisfied: python-dateutil>=2.7 in /usr/local/lib/python3.10/dist-packages (from matplotlib) (2.8.2)\n",
            "Requirement already satisfied: six>=1.5 in /usr/local/lib/python3.10/dist-packages (from python-dateutil>=2.7->matplotlib) (1.16.0)\n",
            "Requirement already satisfied: scikit-learn in /usr/local/lib/python3.10/dist-packages (1.3.2)\n",
            "Requirement already satisfied: numpy<2.0,>=1.17.3 in /usr/local/lib/python3.10/dist-packages (from scikit-learn) (1.26.4)\n",
            "Requirement already satisfied: scipy>=1.5.0 in /usr/local/lib/python3.10/dist-packages (from scikit-learn) (1.13.1)\n",
            "Requirement already satisfied: joblib>=1.1.1 in /usr/local/lib/python3.10/dist-packages (from scikit-learn) (1.4.2)\n",
            "Requirement already satisfied: threadpoolctl>=2.0.0 in /usr/local/lib/python3.10/dist-packages (from scikit-learn) (3.5.0)\n"
          ]
        }
      ],
      "source": [
        "!pip install kaggle\n",
        "!pip install torch torchvision\n",
        "!pip install pandas\n",
        "!pip install numpy\n",
        "!pip install matplotlib\n",
        "!pip install scikit-learn"
      ]
    },
    {
      "cell_type": "code",
      "source": [
        "# SETUP DEPENDENCIES AND KAGGLE API\n",
        "import matplotlib.pyplot as plt\n",
        "import torch\n",
        "import torch.nn as nn\n",
        "import torch.optim as optim\n",
        "from torchvision import datasets, models, transforms\n",
        "from torch.utils.data import Dataset, DataLoader\n",
        "from PIL import Image\n",
        "import os\n",
        "import pandas as pd\n",
        "from sklearn.model_selection import train_test_split\n",
        "from sklearn.preprocessing import MinMaxScaler\n",
        "\n",
        "# Kaggle API credentails\n",
        "os.environ['KAGGLE_USERNAME'] = 'fredliu876'\n",
        "os.environ['KAGGLE_KEY'] = '7c8c3537c095b74be5dc7c229e352153'"
      ],
      "metadata": {
        "id": "MvCM0okVfHv9"
      },
      "execution_count": null,
      "outputs": []
    },
    {
      "cell_type": "code",
      "source": [
        "!kaggle competitions download -c cs-480-2024-spring\n",
        "!echo \"n\" | unzip -q cs-480-2024-spring.zip"
      ],
      "metadata": {
        "colab": {
          "base_uri": "https://localhost:8080/"
        },
        "id": "cOLuwj5mfeKH",
        "outputId": "745b3e04-5de4-4c60-8272-22beaf56b453"
      },
      "execution_count": null,
      "outputs": [
        {
          "output_type": "stream",
          "name": "stdout",
          "text": [
            "Downloading cs-480-2024-spring.zip to /content\n",
            " 92% 263M/287M [00:01<00:00, 231MB/s]\n",
            "100% 287M/287M [00:01<00:00, 246MB/s]\n"
          ]
        }
      ]
    },
    {
      "cell_type": "code",
      "source": [
        "device = torch.device(\"cuda\" if torch.cuda.is_available() else \"cpu\")\n",
        "\n",
        "df = pd.read_csv(\"data/train.csv\")\n",
        "train_df, val_df = train_test_split(df, test_size=None, random_state=5)\n"
      ],
      "metadata": {
        "id": "nbLIaMgcVP-H"
      },
      "execution_count": null,
      "outputs": []
    },
    {
      "cell_type": "code",
      "source": [
        "class PlantDataset(Dataset):\n",
        "    def __init__(self, dataframe, train, transform, input_scaler, output_scaler):\n",
        "        self.dataframe = dataframe\n",
        "        self.train = train\n",
        "        self.transform = transform\n",
        "        self.input_scaler = input_scaler\n",
        "        self.output_scaler = output_scaler\n",
        "\n",
        "    def __len__(self):\n",
        "        return len(self.dataframe)\n",
        "\n",
        "    def __getitem__(self, idx):\n",
        "        row = self.dataframe.iloc[idx]\n",
        "        img_id = int(row['id'])\n",
        "        if self.train:\n",
        "            image = Image.open(f'data/train_images/{img_id}.jpeg')\n",
        "        else:\n",
        "            image = Image.open(f'data/test_images/{img_id}.jpeg')\n",
        "        if self.transform:\n",
        "            image = self.transform(image)\n",
        "\n",
        "        row = row.drop('id')\n",
        "        input_traits = row.iloc[:163].values.astype('float32')  # First 163 columns are input traits\n",
        "        input_traits = self.input_scaler.transform(input_traits.reshape(1, -1)).astype('float32')[0]\n",
        "\n",
        "        output_traits = []\n",
        "        if self.train:\n",
        "          output_traits = row.iloc[163:].values.astype('float32') # Last 6 columns are output traits\n",
        "          output_traits = self.output_scaler.transform(output_traits.reshape(1, -1)).astype('float32')[0]\n",
        "\n",
        "        input_traits = torch.tensor(input_traits)\n",
        "        output_traits = torch.tensor(output_traits)\n",
        "\n",
        "        return img_id, image, input_traits, output_traits"
      ],
      "metadata": {
        "id": "zSQKV7jmZvU8"
      },
      "execution_count": null,
      "outputs": []
    },
    {
      "cell_type": "code",
      "source": [
        "input_scaler = MinMaxScaler()\n",
        "output_scaler = MinMaxScaler()\n",
        "\n",
        "# Fit the input AND output scalers on the training data, this assumes test data has same distribution as training data, which should roughly hold\n",
        "input_scaler.fit(train_df.iloc[:, 1:164].values)\n",
        "output_scaler.fit(train_df.iloc[:, 164:].values)\n",
        "\n",
        "transform = transforms.Compose([\n",
        "    transforms.Resize((224, 224)),\n",
        "    transforms.ToTensor(),\n",
        "    transforms.Normalize([0.485, 0.456, 0.406], [0.229, 0.224, 0.225])\n",
        "])\n",
        "\n",
        "train_dataset = PlantDataset(train_df, True, transform, input_scaler, output_scaler)\n",
        "val_dataset = PlantDataset(val_df, True, transform, input_scaler, output_scaler)\n",
        "\n",
        "train_loader = DataLoader(train_dataset, batch_size=24, shuffle=True, num_workers=2)\n",
        "val_loader = DataLoader(val_dataset, batch_size=24, shuffle=False, num_workers=2)"
      ],
      "metadata": {
        "id": "OwpUTt86aahM"
      },
      "execution_count": null,
      "outputs": []
    },
    {
      "cell_type": "code",
      "source": [
        "class PlantCNN(nn.Module):\n",
        "    def __init__(self):\n",
        "        super(PlantCNN, self).__init__()\n",
        "        self.resnet_model = torch.hub.load('pytorch/vision:v0.10.0', 'resnet50', pretrained=True)\n",
        "\n",
        "        num_features = self.resnet_model.fc.in_features\n",
        "        self.resnet_model.fc = nn.Identity()\n",
        "\n",
        "        self.fc1 = nn.Linear(num_features + 163, 512)\n",
        "        self.fc2 = nn.Linear(512, 256)\n",
        "        self.fc3 = nn.Linear(256, 6)\n",
        "        self.dropout = nn.Dropout(p=0.3)\n",
        "\n",
        "    def forward(self, image, input_traits):\n",
        "        image_features = self.resnet_model(image)\n",
        "        combined_features = torch.cat((image_features, input_traits), dim=1)\n",
        "        x = nn.ReLU()(self.fc1(combined_features))\n",
        "        x = self.dropout(x)\n",
        "        x = nn.ReLU()(self.fc2(x))\n",
        "        x = self.dropout(x)\n",
        "        output = self.fc3(x)\n",
        "        return output"
      ],
      "metadata": {
        "id": "EN-TtgzMcf_h"
      },
      "execution_count": null,
      "outputs": []
    },
    {
      "cell_type": "code",
      "source": [
        "model = PlantCNN()\n",
        "model = model.to(device)\n",
        "\n",
        "criterion = nn.MSELoss()\n",
        "optimizer = optim.Adam(model.parameters(), lr=0.001)"
      ],
      "metadata": {
        "colab": {
          "base_uri": "https://localhost:8080/"
        },
        "id": "dTmksDY2dvIU",
        "outputId": "54a526ac-1cbc-40e4-fc01-db9e98131e7e"
      },
      "execution_count": null,
      "outputs": [
        {
          "output_type": "stream",
          "name": "stderr",
          "text": [
            "Downloading: \"https://github.com/pytorch/vision/zipball/v0.10.0\" to /root/.cache/torch/hub/v0.10.0.zip\n",
            "/usr/local/lib/python3.10/dist-packages/torchvision/models/_utils.py:208: UserWarning: The parameter 'pretrained' is deprecated since 0.13 and may be removed in the future, please use 'weights' instead.\n",
            "  warnings.warn(\n",
            "/usr/local/lib/python3.10/dist-packages/torchvision/models/_utils.py:223: UserWarning: Arguments other than a weight enum or `None` for 'weights' are deprecated since 0.13 and may be removed in the future. The current behavior is equivalent to passing `weights=ResNet50_Weights.IMAGENET1K_V1`. You can also use `weights=ResNet50_Weights.DEFAULT` to get the most up-to-date weights.\n",
            "  warnings.warn(msg)\n",
            "Downloading: \"https://download.pytorch.org/models/resnet50-0676ba61.pth\" to /root/.cache/torch/hub/checkpoints/resnet50-0676ba61.pth\n",
            "100%|██████████| 97.8M/97.8M [00:01<00:00, 82.8MB/s]\n"
          ]
        }
      ]
    },
    {
      "cell_type": "code",
      "source": [
        "# Start training\n",
        "num_epochs = 3\n",
        "epochs = list(range(num_epochs))\n",
        "epoch_losses = []\n",
        "for epoch in epochs:\n",
        "    print(f'-------------------------- Epoch {epoch} ----------------------- \\n')\n",
        "\n",
        "    for phase in ['train', 'val']:\n",
        "        training = phase == \"train\"\n",
        "        if training:\n",
        "            model.train()\n",
        "        else:\n",
        "            model.eval()\n",
        "\n",
        "        running_loss = 0.0\n",
        "\n",
        "        i = 0\n",
        "        loader = train_loader if training else val_loader\n",
        "        for _, images, input_traits, output_traits in loader:\n",
        "            images = images.to(device)\n",
        "            input_traits = input_traits.to(device)\n",
        "            output_traits = output_traits.to(device)\n",
        "\n",
        "            optimizer.zero_grad()\n",
        "\n",
        "            with torch.set_grad_enabled(training):\n",
        "                outputs = model(images, input_traits)\n",
        "                loss = criterion(outputs, output_traits)\n",
        "\n",
        "                if training:\n",
        "                    loss.backward()\n",
        "                    optimizer.step()\n",
        "\n",
        "            running_loss += loss.item() * images.size(0)\n",
        "            i += 1\n",
        "            if i % 30 == 0:\n",
        "              print(f\"Finished {'training' if training else 'evaluating'} {i} batches\")\n",
        "\n",
        "        if not training:\n",
        "          epoch_loss = running_loss / len(val_loader.dataset)\n",
        "          epoch_losses.append(epoch_loss)"
      ],
      "metadata": {
        "colab": {
          "base_uri": "https://localhost:8080/"
        },
        "id": "0r_F3Q0gd6Bb",
        "outputId": "1271fd88-6775-4d2b-a2f5-dd54c7d33b8a"
      },
      "execution_count": null,
      "outputs": [
        {
          "output_type": "stream",
          "name": "stdout",
          "text": [
            "-------------------------- Epoch 0 ----------------------- \n",
            "\n",
            "Finished training 30 batches\n",
            "Finished training 60 batches\n",
            "Finished training 90 batches\n",
            "Finished training 120 batches\n",
            "Finished training 150 batches\n",
            "Finished training 180 batches\n",
            "Finished training 210 batches\n",
            "Finished training 240 batches\n",
            "Finished training 270 batches\n",
            "Finished training 300 batches\n",
            "Finished training 330 batches\n",
            "Finished training 360 batches\n",
            "Finished training 390 batches\n",
            "Finished training 420 batches\n",
            "Finished training 450 batches\n",
            "Finished training 480 batches\n",
            "Finished training 510 batches\n",
            "Finished training 540 batches\n",
            "Finished training 570 batches\n",
            "Finished training 600 batches\n",
            "Finished training 630 batches\n",
            "Finished training 660 batches\n",
            "Finished training 690 batches\n",
            "Finished training 720 batches\n",
            "Finished training 750 batches\n",
            "Finished training 780 batches\n",
            "Finished training 810 batches\n",
            "Finished training 840 batches\n",
            "Finished training 870 batches\n",
            "Finished training 900 batches\n",
            "Finished training 930 batches\n",
            "Finished training 960 batches\n",
            "Finished training 990 batches\n",
            "Finished training 1020 batches\n",
            "Finished training 1050 batches\n",
            "Finished training 1080 batches\n",
            "Finished training 1110 batches\n",
            "Finished training 1140 batches\n",
            "Finished training 1170 batches\n",
            "Finished training 1200 batches\n",
            "Finished training 1230 batches\n",
            "Finished training 1260 batches\n",
            "Finished training 1290 batches\n",
            "Finished training 1320 batches\n",
            "Finished training 1350 batches\n",
            "Finished evaluating 30 batches\n",
            "Finished evaluating 60 batches\n",
            "Finished evaluating 90 batches\n",
            "Finished evaluating 120 batches\n",
            "Finished evaluating 150 batches\n",
            "Finished evaluating 180 batches\n",
            "Finished evaluating 210 batches\n",
            "Finished evaluating 240 batches\n",
            "Finished evaluating 270 batches\n",
            "Finished evaluating 300 batches\n",
            "Finished evaluating 330 batches\n",
            "Finished evaluating 360 batches\n",
            "Finished evaluating 390 batches\n",
            "Finished evaluating 420 batches\n",
            "Finished evaluating 450 batches\n",
            "-------------------------- Epoch 1 ----------------------- \n",
            "\n",
            "Finished training 30 batches\n",
            "Finished training 60 batches\n",
            "Finished training 90 batches\n",
            "Finished training 120 batches\n",
            "Finished training 150 batches\n",
            "Finished training 180 batches\n",
            "Finished training 210 batches\n",
            "Finished training 240 batches\n",
            "Finished training 270 batches\n",
            "Finished training 300 batches\n",
            "Finished training 330 batches\n",
            "Finished training 360 batches\n",
            "Finished training 390 batches\n",
            "Finished training 420 batches\n",
            "Finished training 450 batches\n",
            "Finished training 480 batches\n",
            "Finished training 510 batches\n",
            "Finished training 540 batches\n",
            "Finished training 570 batches\n",
            "Finished training 600 batches\n",
            "Finished training 630 batches\n",
            "Finished training 660 batches\n",
            "Finished training 690 batches\n",
            "Finished training 720 batches\n",
            "Finished training 750 batches\n",
            "Finished training 780 batches\n",
            "Finished training 810 batches\n",
            "Finished training 840 batches\n",
            "Finished training 870 batches\n",
            "Finished training 900 batches\n",
            "Finished training 930 batches\n",
            "Finished training 960 batches\n",
            "Finished training 990 batches\n",
            "Finished training 1020 batches\n",
            "Finished training 1050 batches\n",
            "Finished training 1080 batches\n",
            "Finished training 1110 batches\n",
            "Finished training 1140 batches\n",
            "Finished training 1170 batches\n",
            "Finished training 1200 batches\n",
            "Finished training 1230 batches\n",
            "Finished training 1260 batches\n",
            "Finished training 1290 batches\n",
            "Finished training 1320 batches\n",
            "Finished training 1350 batches\n",
            "Finished evaluating 30 batches\n",
            "Finished evaluating 60 batches\n",
            "Finished evaluating 90 batches\n",
            "Finished evaluating 120 batches\n",
            "Finished evaluating 150 batches\n",
            "Finished evaluating 180 batches\n",
            "Finished evaluating 210 batches\n",
            "Finished evaluating 240 batches\n",
            "Finished evaluating 270 batches\n",
            "Finished evaluating 300 batches\n",
            "Finished evaluating 330 batches\n",
            "Finished evaluating 360 batches\n",
            "Finished evaluating 390 batches\n",
            "Finished evaluating 420 batches\n",
            "Finished evaluating 450 batches\n",
            "-------------------------- Epoch 2 ----------------------- \n",
            "\n",
            "Finished training 30 batches\n",
            "Finished training 60 batches\n",
            "Finished training 90 batches\n",
            "Finished training 120 batches\n",
            "Finished training 150 batches\n",
            "Finished training 180 batches\n",
            "Finished training 210 batches\n",
            "Finished training 240 batches\n",
            "Finished training 270 batches\n",
            "Finished training 300 batches\n",
            "Finished training 330 batches\n"
          ]
        }
      ]
    },
    {
      "cell_type": "code",
      "source": [
        "plt.plot(epochs, epoch_losses)\n",
        "plt.show()"
      ],
      "metadata": {
        "colab": {
          "base_uri": "https://localhost:8080/",
          "height": 430
        },
        "id": "v0eNFLblf4h5",
        "outputId": "0a96cc26-9f64-4b54-c410-55dbc4ea1a62"
      },
      "execution_count": null,
      "outputs": [
        {
          "output_type": "display_data",
          "data": {
            "text/plain": [
              "<Figure size 640x480 with 1 Axes>"
            ],
            "image/png": "[encoded data removed]"
          },
          "metadata": {}
        }
      ]
    },
    {
      "cell_type": "code",
      "source": [
        "test_df = pd.read_csv('data/test.csv')\n",
        "test_dataset = PlantDataset(test_df, False, transform=transform, input_scaler=input_scaler, output_scaler=output_scaler)\n",
        "test_loader = DataLoader(test_dataset, batch_size=48, shuffle=False, num_workers=6)\n",
        "\n",
        "results = []\n",
        "\n",
        "with torch.no_grad():\n",
        "    for img_ids, images, input_traits, _ in test_loader:\n",
        "        images = images.to(device)\n",
        "        input_traits = input_traits.to(device)\n",
        "        outputs = model(images, input_traits).cpu().numpy()\n",
        "        outputs = output_scaler.inverse_transform(outputs)\n",
        "\n",
        "        for img_id, output in zip(img_ids, outputs):\n",
        "            results.append([img_id.item()] + output.tolist())\n",
        "\n",
        "results_df = pd.DataFrame(results, columns=['id', 'X4', 'X11', 'X18', 'X26', 'X50', 'X3112'])\n",
        "results_df.to_csv('submission.csv', index=False)"
      ],
      "metadata": {
        "colab": {
          "base_uri": "https://localhost:8080/"
        },
        "id": "NBhWqTP6gM6a",
        "outputId": "5d6714a6-5a56-443c-a35d-0c29c0e80df8"
      },
      "execution_count": null,
      "outputs": [
        {
          "output_type": "stream",
          "name": "stderr",
          "text": [
            "/usr/local/lib/python3.10/dist-packages/torch/utils/data/dataloader.py:558: UserWarning: This DataLoader will create 6 worker processes in total. Our suggested max number of worker in current system is 2, which is smaller than what this DataLoader is going to create. Please be aware that excessive worker creation might get DataLoader running slow or even freeze, lower the worker number to avoid potential slowness/freeze if necessary.\n",
            "  warnings.warn(_create_warning_msg(\n"
          ]
        }
      ]
    }
  ]
}